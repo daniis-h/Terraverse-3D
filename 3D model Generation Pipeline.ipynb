{
 "cells": [
  {
   "cell_type": "markdown",
   "id": "b27910de",
   "metadata": {},
   "source": [
    "### Frame extraction and procession"
   ]
  },
  {
   "cell_type": "code",
   "execution_count": null,
   "id": "c4f69a12",
   "metadata": {
    "execution": {
     "iopub.execute_input": "2025-01-30T08:28:14.460191Z",
     "iopub.status.busy": "2025-01-30T08:28:14.459527Z",
     "iopub.status.idle": "2025-01-30T08:28:17.317444Z",
     "shell.execute_reply": "2025-01-30T08:28:17.316409Z"
    },
    "papermill": {
     "duration": 2.867006,
     "end_time": "2025-01-30T08:28:17.319395",
     "exception": false,
     "start_time": "2025-01-30T08:28:14.452389",
     "status": "completed"
    },
    "tags": []
   },
   "outputs": [],
   "source": [
    "# !mkdir -p /kaggle/working/frames_output/images\n",
    "import cv2\n",
    "import os\n",
    "\n",
    "def extract_frames(video_path, output_folder, fps=5):\n",
    "    # Open the video file\n",
    "    cap = cv2.VideoCapture(video_path)\n",
    "    \n",
    "    # Get the original video frame rate\n",
    "    original_fps = cap.get(cv2.CAP_PROP_FPS)\n",
    "    \n",
    "    # Calculate the interval for frame extraction\n",
    "    frame_interval = int(original_fps // fps)\n",
    "    \n",
    "    # Create output directory if it doesn't exist\n",
    "    os.makedirs(output_folder, exist_ok=True)\n",
    "    \n",
    "    # Frame counter\n",
    "    frame_count = 0\n",
    "    saved_frame_count = 0\n",
    "    \n",
    "    while cap.isOpened():\n",
    "        ret, frame = cap.read()\n",
    "        \n",
    "        # If no frame is returned, the video is over\n",
    "        if not ret:\n",
    "            break\n",
    "        \n",
    "        # Save the frame only if it's the nth frame according to the frame interval\n",
    "        if frame_count % frame_interval == 0:\n",
    "            output_file_path = os.path.join(output_folder, f\"frame_{saved_frame_count}.jpg\")\n",
    "            cv2.imwrite(output_file_path, frame)\n",
    "            print(f\"Saved {output_file_path}\")\n",
    "            saved_frame_count += 1\n",
    "        \n",
    "        frame_count += 1\n",
    "    \n",
    "    # Release the video capture object\n",
    "    cap.release()\n",
    "    print(f\"Total frames saved: {saved_frame_count}\")\n",
    "\n",
    "# Example usage\n",
    "video_path = '/kaggle/input/behria3/behria.mp4'  # Path to the video file\n",
    "output_folder = '/kaggle/working/frames_output'  # Folder to save extracted frames\n",
    "extract_frames(video_path, output_folder, fps=5)\n"
   ]
  },
  {
   "cell_type": "code",
   "execution_count": null,
   "id": "e0eb2833",
   "metadata": {
    "execution": {
     "iopub.execute_input": "2025-01-30T08:28:17.333346Z",
     "iopub.status.busy": "2025-01-30T08:28:17.333019Z",
     "iopub.status.idle": "2025-01-30T08:28:18.377564Z",
     "shell.execute_reply": "2025-01-30T08:28:18.376756Z"
    },
    "papermill": {
     "duration": 1.053768,
     "end_time": "2025-01-30T08:28:18.379725",
     "exception": false,
     "start_time": "2025-01-30T08:28:17.325957",
     "status": "completed"
    },
    "tags": []
   },
   "outputs": [],
   "source": [
    "import cv2\n",
    "import glob\n",
    "\n",
    "input_folder = \"/kaggle/working/frames_output/\"\n",
    "output_folder = \"/kaggle/working/frames_output/images/\"\n",
    "scale_percent = 50  # Resize to 50% of original size\n",
    "\n",
    "for img_path in glob.glob(input_folder + \"*.jpg\"):\n",
    "    img = cv2.imread(img_path)\n",
    "    width = int(img.shape[1] * scale_percent / 100)\n",
    "    height = int(img.shape[0] * scale_percent / 100)\n",
    "    resized = cv2.resize(img, (width, height), interpolation=cv2.INTER_AREA)\n",
    "    cv2.imwrite(output_folder + img_path.split(\"/\")[-1], resized)\n"
   ]
  },
  {
   "cell_type": "code",
   "execution_count": null,
   "id": "5b0a0f49",
   "metadata": {
    "execution": {
     "iopub.execute_input": "2025-01-30T08:28:18.394529Z",
     "iopub.status.busy": "2025-01-30T08:28:18.394184Z",
     "iopub.status.idle": "2025-01-30T08:28:19.255371Z",
     "shell.execute_reply": "2025-01-30T08:28:19.254406Z"
    },
    "papermill": {
     "duration": 0.870891,
     "end_time": "2025-01-30T08:28:19.257359",
     "exception": false,
     "start_time": "2025-01-30T08:28:18.386468",
     "status": "completed"
    },
    "tags": []
   },
   "outputs": [],
   "source": [
    "import cv2\n",
    "import numpy as np\n",
    "import os\n",
    "from matplotlib import pyplot as plt\n",
    "\n",
    "def sharpness_detection(directory):\n",
    "    filenames = [os.path.join(directory, f) for f in os.listdir(directory) if f.endswith('.jpg')]\n",
    "    sharpness_dict = {}\n",
    "\n",
    "    # Calculate the sharpness of each image\n",
    "    for fname in filenames:\n",
    "        image = cv2.imread(fname)\n",
    "        gray = cv2.cvtColor(image, cv2.COLOR_BGR2GRAY)\n",
    "        laplacian = cv2.Laplacian(gray, cv2.CV_64F)\n",
    "        var = laplacian.var()\n",
    "        sharpness_dict[fname] = var\n",
    "\n",
    "    # Sort images by sharpness\n",
    "    sorted_sharpness = {k: v for k, v in sorted(sharpness_dict.items(), key=lambda item: item[1])}\n",
    "    \n",
    "    # Calculate mean and standard deviation of variance values\n",
    "    mean = np.mean(list(sorted_sharpness.values()))\n",
    "    std = np.std(list(sorted_sharpness.values()))\n",
    "    \n",
    "    # Display variance values and their distribution\n",
    "    print(\"Variance of Laplace -> Mean:\", mean, \"Std:\", std)\n",
    "    fig, ax = plt.subplots()\n",
    "    n, bins, patches = ax.hist(list(sorted_sharpness.values()), bins=10, density=True)\n",
    "    y = (1 / (np.sqrt(2 * np.pi) * std)) * np.exp(-0.5 * (1 / std * (bins - mean))**2)\n",
    "    ax.plot(bins, y, '--')\n",
    "    ax.set_xlabel(\"Variance Value\")\n",
    "    ax.set_ylabel(\"Frequency\")\n",
    "    ax.set_title('Histogram of Variance Values with Normal Distribution Curve')\n",
    "    plt.show()\n",
    "\n",
    "    # Determine threshold for blurriness\n",
    "    threshold = mean - std  # example threshold\n",
    "\n",
    "    # Identify blurry images without removing two consecutive ones\n",
    "    prev_removed = False\n",
    "    to_remove = []\n",
    "    for fname, sharpness in sorted_sharpness.items():\n",
    "        if sharpness < threshold and not prev_removed:\n",
    "            to_remove.append(fname)\n",
    "            prev_removed = True\n",
    "        else:\n",
    "            prev_removed = False\n",
    "\n",
    "    # Remove identified blurry images\n",
    "    for fname in to_remove:\n",
    "        os.remove(fname)\n",
    "        print(f\"Removed {fname}\")\n",
    "\n",
    "    return to_remove\n",
    "\n",
    "# Example usage\n",
    "directory = '/kaggle/working/frames_output/images/'\n",
    "removed_files = sharpness_detection(directory)\n"
   ]
  },
  {
   "cell_type": "markdown",
   "id": "8c627108",
   "metadata": {},
   "source": [
    "### Feature Extraction"
   ]
  },
  {
   "cell_type": "code",
   "execution_count": null,
   "id": "7e0e4990",
   "metadata": {
    "collapsed": true,
    "execution": {
     "iopub.execute_input": "2025-01-30T08:28:35.112058Z",
     "iopub.status.busy": "2025-01-30T08:28:35.111657Z",
     "iopub.status.idle": "2025-01-30T08:28:41.814081Z",
     "shell.execute_reply": "2025-01-30T08:28:41.812734Z"
    },
    "jupyter": {
     "outputs_hidden": true
    },
    "papermill": {
     "duration": 6.7148,
     "end_time": "2025-01-30T08:28:41.816454",
     "exception": false,
     "start_time": "2025-01-30T08:28:35.101654",
     "status": "completed"
    },
    "tags": []
   },
   "outputs": [],
   "source": [
    "!sudo apt-get install -y \\\n",
    "    git \\\n",
    "    cmake \\\n",
    "    ninja-build \\\n",
    "    build-essential \\\n",
    "    libboost-program-options-dev \\\n",
    "    libboost-graph-dev \\\n",
    "    libboost-system-dev \\\n",
    "    libeigen3-dev \\\n",
    "    libflann-dev \\\n",
    "    libfreeimage-dev \\\n",
    "    libmetis-dev \\\n",
    "    libgoogle-glog-dev \\\n",
    "    libgtest-dev \\\n",
    "    libgmock-dev \\\n",
    "    libsqlite3-dev \\\n",
    "    libglew-dev \\\n",
    "    qtbase5-dev \\\n",
    "    libqt5opengl5-dev \\\n",
    "    libcgal-dev \\\n",
    "    libceres-dev"
   ]
  },
  {
   "cell_type": "code",
   "execution_count": null,
   "id": "1dda50d8",
   "metadata": {
    "execution": {
     "iopub.execute_input": "2025-01-30T08:28:41.844533Z",
     "iopub.status.busy": "2025-01-30T08:28:41.844151Z",
     "iopub.status.idle": "2025-01-30T08:28:41.848721Z",
     "shell.execute_reply": "2025-01-30T08:28:41.847820Z"
    },
    "papermill": {
     "duration": 0.020267,
     "end_time": "2025-01-30T08:28:41.850468",
     "exception": false,
     "start_time": "2025-01-30T08:28:41.830201",
     "status": "completed"
    },
    "tags": []
   },
   "outputs": [],
   "source": [
    "# !colmap feature_extractor --help | grep CUDA\n"
   ]
  },
  {
   "cell_type": "code",
   "execution_count": null,
   "id": "8f4b13b4",
   "metadata": {
    "collapsed": true,
    "execution": {
     "iopub.execute_input": "2025-01-30T08:28:41.876929Z",
     "iopub.status.busy": "2025-01-30T08:28:41.876568Z",
     "iopub.status.idle": "2025-01-30T08:28:41.880571Z",
     "shell.execute_reply": "2025-01-30T08:28:41.879803Z"
    },
    "jupyter": {
     "outputs_hidden": true
    },
    "papermill": {
     "duration": 0.019096,
     "end_time": "2025-01-30T08:28:41.882260",
     "exception": false,
     "start_time": "2025-01-30T08:28:41.863164",
     "status": "completed"
    },
    "tags": []
   },
   "outputs": [],
   "source": [
    "# !nvidia-smi\n",
    "\n",
    "# # Step 2: Check CUDA Version\n",
    "# !nvcc --version || echo \"nvcc not found\""
   ]
  },
  {
   "cell_type": "code",
   "execution_count": null,
   "id": "c5c93c2a",
   "metadata": {
    "papermill": {
     "duration": 0.012048,
     "end_time": "2025-01-30T08:28:41.907028",
     "exception": false,
     "start_time": "2025-01-30T08:28:41.894980",
     "status": "completed"
    },
    "tags": []
   },
   "outputs": [],
   "source": []
  },
  {
   "cell_type": "code",
   "execution_count": null,
   "id": "8b0116b7",
   "metadata": {
    "collapsed": true,
    "execution": {
     "iopub.execute_input": "2025-01-30T08:28:41.933214Z",
     "iopub.status.busy": "2025-01-30T08:28:41.932803Z",
     "iopub.status.idle": "2025-01-30T08:29:07.892261Z",
     "shell.execute_reply": "2025-01-30T08:29:07.891253Z"
    },
    "jupyter": {
     "outputs_hidden": true
    },
    "papermill": {
     "duration": 25.975131,
     "end_time": "2025-01-30T08:29:07.894599",
     "exception": false,
     "start_time": "2025-01-30T08:28:41.919468",
     "status": "completed"
    },
    "tags": []
   },
   "outputs": [],
   "source": [
    "!sudo apt update --fix-missing\n",
    "!sudo apt install -y colmap\n",
    "!pip install pycolmap"
   ]
  },
  {
   "cell_type": "code",
   "execution_count": null,
   "id": "e8a09829",
   "metadata": {
    "execution": {
     "iopub.execute_input": "2025-01-30T08:29:07.946297Z",
     "iopub.status.busy": "2025-01-30T08:29:07.945469Z",
     "iopub.status.idle": "2025-01-30T08:29:12.034711Z",
     "shell.execute_reply": "2025-01-30T08:29:12.033638Z"
    },
    "papermill": {
     "duration": 4.117211,
     "end_time": "2025-01-30T08:29:12.037171",
     "exception": false,
     "start_time": "2025-01-30T08:29:07.919960",
     "status": "completed"
    },
    "tags": []
   },
   "outputs": [],
   "source": [
    "!export QT_QPA_PLATFORM='offscreen'\n",
    "\n",
    "!sudo apt-get install -y xvfb\n"
   ]
  },
  {
   "cell_type": "code",
   "execution_count": null,
   "id": "6ebd2423",
   "metadata": {
    "execution": {
     "iopub.execute_input": "2025-01-30T08:29:12.088504Z",
     "iopub.status.busy": "2025-01-30T08:29:12.088115Z",
     "iopub.status.idle": "2025-01-30T08:29:12.093108Z",
     "shell.execute_reply": "2025-01-30T08:29:12.092023Z"
    },
    "papermill": {
     "duration": 0.032874,
     "end_time": "2025-01-30T08:29:12.094976",
     "exception": false,
     "start_time": "2025-01-30T08:29:12.062102",
     "status": "completed"
    },
    "tags": []
   },
   "outputs": [],
   "source": [
    "# Set XDG_RUNTIME_DIR to a temporary directory\n",
    "import os\n",
    "os.environ['XDG_RUNTIME_DIR'] = '/tmp/runtime-root'\n"
   ]
  },
  {
   "cell_type": "code",
   "execution_count": null,
   "id": "57908877",
   "metadata": {
    "execution": {
     "iopub.execute_input": "2025-01-30T08:29:12.147279Z",
     "iopub.status.busy": "2025-01-30T08:29:12.146919Z",
     "iopub.status.idle": "2025-01-30T09:06:21.371971Z",
     "shell.execute_reply": "2025-01-30T09:06:21.370642Z"
    },
    "papermill": {
     "duration": 2229.253275,
     "end_time": "2025-01-30T09:06:21.374478",
     "exception": false,
     "start_time": "2025-01-30T08:29:12.121203",
     "status": "completed"
    },
    "tags": []
   },
   "outputs": [],
   "source": [
    "# Feature Extraction with GPU\n",
    "!xvfb-run colmap feature_extractor \\\n",
    "    --database_path \"/kaggle/working/colmap_output/database.db\" \\\n",
    "    --image_path \"/kaggle/working/frames_output/images\" \\\n",
    "    --ImageReader.camera_model PINHOLE \\\n",
    "    --ImageReader.single_camera 1 \\\n",
    "    --SiftExtraction.use_gpu 1 \\\n",
    "    --SiftExtraction.gpu_index 0  # Specify GPU index if multiple GPUs are available\n",
    "\n",
    "# Exhaustive Matching with GPU\n",
    "!xvfb-run colmap exhaustive_matcher \\\n",
    "    --database_path /kaggle/working/colmap_output/database.db \\\n",
    "    --SiftMatching.use_gpu 1 \\\n",
    "    --SiftMatching.gpu_index 0  # Specify GPU index if multiple GPUs are available\n"
   ]
  },
  {
   "cell_type": "code",
   "execution_count": null,
   "id": "fbd28491",
   "metadata": {
    "execution": {
     "iopub.execute_input": "2025-01-30T09:06:21.437901Z",
     "iopub.status.busy": "2025-01-30T09:06:21.437483Z",
     "iopub.status.idle": "2025-01-30T09:06:22.579547Z",
     "shell.execute_reply": "2025-01-30T09:06:22.578230Z"
    },
    "papermill": {
     "duration": 1.176776,
     "end_time": "2025-01-30T09:06:22.581888",
     "exception": false,
     "start_time": "2025-01-30T09:06:21.405112",
     "status": "completed"
    },
    "tags": []
   },
   "outputs": [],
   "source": [
    "!colmap mapper \\\n",
    "--database_path \"/kaggle/working/colmap_output/database.db\" \\\n",
    "--image_path \"/kaggle/working/frames_output/input\" \\\n",
    "--output_path \"/kaggle/working/colmap_output/sparse\"\n",
    "  "
   ]
  },
  {
   "cell_type": "markdown",
   "id": "1e86a569",
   "metadata": {
    "papermill": {
     "duration": 0.033861,
     "end_time": "2025-01-30T09:06:25.123595",
     "exception": false,
     "start_time": "2025-01-30T09:06:25.089734",
     "status": "completed"
    },
    "tags": []
   },
   "source": [
    "# Gaussian splat"
   ]
  },
  {
   "cell_type": "code",
   "execution_count": null,
   "id": "bccc18c8",
   "metadata": {
    "execution": {
     "iopub.execute_input": "2025-01-30T09:06:25.188659Z",
     "iopub.status.busy": "2025-01-30T09:06:25.188295Z",
     "iopub.status.idle": "2025-01-30T09:10:01.410092Z",
     "shell.execute_reply": "2025-01-30T09:10:01.408732Z"
    },
    "papermill": {
     "duration": 216.257653,
     "end_time": "2025-01-30T09:10:01.413664",
     "exception": false,
     "start_time": "2025-01-30T09:06:25.156011",
     "status": "completed"
    },
    "tags": []
   },
   "outputs": [],
   "source": [
    "%cd /kaggle/working/\n",
    "!git clone --recursive https://github.com/camenduru/gaussian-splatting\n",
    "!pip install -q plyfile\n",
    "\n",
    "%cd /kaggle/working//gaussian-splatting\n",
    "!pip install -q /kaggle/working/gaussian-splatting/submodules/diff-gaussian-rasterization\n",
    "!pip install -q /kaggle/working/gaussian-splatting/submodules/simple-knn"
   ]
  },
  {
   "cell_type": "code",
   "execution_count": null,
   "id": "72a40d91",
   "metadata": {
    "execution": {
     "iopub.execute_input": "2025-01-30T09:10:01.494446Z",
     "iopub.status.busy": "2025-01-30T09:10:01.493996Z",
     "iopub.status.idle": "2025-01-30T09:10:49.029533Z",
     "shell.execute_reply": "2025-01-30T09:10:49.028421Z"
    },
    "papermill": {
     "duration": 47.577766,
     "end_time": "2025-01-30T09:10:49.031977",
     "exception": false,
     "start_time": "2025-01-30T09:10:01.454211",
     "status": "completed"
    },
    "tags": []
   },
   "outputs": [],
   "source": [
    "!sudo apt-get install -y \\\n",
    "    git \\\n",
    "    cmake \\\n",
    "    ninja-build \\\n",
    "    build-essential \\\n",
    "    libboost-program-options-dev \\\n",
    "    libboost-filesystem-dev \\\n",
    "    libboost-graph-dev \\\n",
    "    libboost-system-dev \\\n",
    "    libboost-regex-dev \\\n",
    "    libboost-test-dev \\\n",
    "    libeigen3-dev \\\n",
    "    libflann-dev \\\n",
    "    libfreeimage-dev \\\n",
    "    libmetis-dev \\\n",
    "    libgoogle-glog-dev \\\n",
    "    libgtest-dev \\\n",
    "    libsqlite3-dev \\\n",
    "    libglew-dev \\\n",
    "    qtbase5-dev \\\n",
    "    libqt5opengl5-dev \\\n",
    "    libcgal-dev \\\n",
    "    libceres-dev \\\n",
    "    libsuitesparse-dev \\\n",
    "    libgflags-dev \\\n",
    "    libpng-dev \\\n",
    "    libjpeg-dev \\\n",
    "    libtiff-dev \\\n",
    "    libxxf86vm1 \\\n",
    "    libxxf86vm-dev \\\n",
    "    libxi-dev \\\n",
    "    libxrandr-dev"
   ]
  },
  {
   "cell_type": "code",
   "execution_count": null,
   "id": "9b993fd6",
   "metadata": {
    "execution": {
     "iopub.execute_input": "2025-01-30T09:11:02.617688Z",
     "iopub.status.busy": "2025-01-30T09:11:02.616954Z",
     "iopub.status.idle": "2025-01-30T09:11:21.247998Z",
     "shell.execute_reply": "2025-01-30T09:11:21.246653Z"
    },
    "papermill": {
     "duration": 18.694121,
     "end_time": "2025-01-30T09:11:21.251129",
     "exception": false,
     "start_time": "2025-01-30T09:11:02.557008",
     "status": "completed"
    },
    "tags": []
   },
   "outputs": [],
   "source": [
    "%cd /kaggle/working/gaussian-splatting\n",
    "!python train.py -s /kaggle/working/frames_output\n"
   ]
  },
  {
   "cell_type": "markdown",
   "id": "6a0bb96d",
   "metadata": {
    "papermill": {
     "duration": 0.061453,
     "end_time": "2025-01-30T09:11:22.793684",
     "exception": false,
     "start_time": "2025-01-30T09:11:22.732231",
     "status": "completed"
    },
    "tags": []
   },
   "source": [
    "# Mesh"
   ]
  },
  {
   "cell_type": "code",
   "execution_count": null,
   "id": "ebd74823",
   "metadata": {
    "execution": {
     "iopub.execute_input": "2025-01-30T09:11:22.919022Z",
     "iopub.status.busy": "2025-01-30T09:11:22.918266Z",
     "iopub.status.idle": "2025-01-30T09:11:27.897244Z",
     "shell.execute_reply": "2025-01-30T09:11:27.895927Z"
    },
    "papermill": {
     "duration": 5.045131,
     "end_time": "2025-01-30T09:11:27.900351",
     "exception": false,
     "start_time": "2025-01-30T09:11:22.855220",
     "status": "completed"
    },
    "tags": []
   },
   "outputs": [],
   "source": [
    "%cd /kaggle/working/\n",
    "!git clone https://github.com/Anttwo/SuGaR.git"
   ]
  },
  {
   "cell_type": "code",
   "execution_count": null,
   "id": "a82adb3f",
   "metadata": {
    "execution": {
     "iopub.execute_input": "2025-01-30T09:11:28.027774Z",
     "iopub.status.busy": "2025-01-30T09:11:28.027349Z",
     "iopub.status.idle": "2025-01-30T09:11:28.035977Z",
     "shell.execute_reply": "2025-01-30T09:11:28.034903Z"
    },
    "papermill": {
     "duration": 0.074968,
     "end_time": "2025-01-30T09:11:28.037876",
     "exception": false,
     "start_time": "2025-01-30T09:11:27.962908",
     "status": "completed"
    },
    "tags": []
   },
   "outputs": [],
   "source": [
    "%cd /kaggle/working/SuGaR\n",
    "import sys\n",
    "sys.path.append('/kaggle/working/SuGaR')\n",
    "sys.path.append('/kaggle/working/SuGaR/gaussian_splatting')\n",
    "sys.path.append('/kaggle/working/SuGaR/gaussian_splatting/scene')\n",
    "sys.path.append('/kaggle/working/SuGaR/sugar_utils')\n",
    "sys.path.append('/kaggle/working/SuGaR/gaussian_splatting/submodules/simple-knn')\n",
    "sys.path.append('/kaggle/workingSuGaR/gaussian_splatting/submodules/diff-gaussian-rasterization')"
   ]
  },
  {
   "cell_type": "code",
   "execution_count": null,
   "id": "cad3262b",
   "metadata": {
    "collapsed": true,
    "execution": {
     "iopub.execute_input": "2025-01-30T09:11:28.164615Z",
     "iopub.status.busy": "2025-01-30T09:11:28.163715Z",
     "iopub.status.idle": "2025-01-30T09:25:57.372151Z",
     "shell.execute_reply": "2025-01-30T09:25:57.371082Z"
    },
    "jupyter": {
     "outputs_hidden": true
    },
    "papermill": {
     "duration": 869.275044,
     "end_time": "2025-01-30T09:25:57.374628",
     "exception": false,
     "start_time": "2025-01-30T09:11:28.099584",
     "status": "completed"
    },
    "tags": []
   },
   "outputs": [],
   "source": [
    "!pip install open3d\n",
    "!pip install torch torchvision torchaudio\n",
    "!pip install git+https://github.com/facebookresearch/pytorch3d.git@stable\n",
    "\n",
    "# Install Plotly\n",
    "!pip install plotly\n",
    "\n",
    "# Install Rich\n",
    "!pip install rich\n",
    "\n",
    "# Install Plyfile\n",
    "!pip install plyfile==0.8.1\n",
    "\n",
    "# Install JupyterLab\n",
    "!pip install jupyterlab\n",
    "\n",
    "# Install Node.js\n",
    "!apt-get install -y nodejs\n",
    "\n",
    "# Install IPywidgets\n",
    "!pip install ipywidgets\n",
    "\n",
    "# Install PyMCubes\n",
    "!pip install --upgrade PyMCubes\n"
   ]
  },
  {
   "cell_type": "code",
   "execution_count": null,
   "id": "682559c7",
   "metadata": {
    "execution": {
     "iopub.execute_input": "2025-01-30T09:25:57.540104Z",
     "iopub.status.busy": "2025-01-30T09:25:57.539672Z",
     "iopub.status.idle": "2025-01-30T09:27:34.890967Z",
     "shell.execute_reply": "2025-01-30T09:27:34.889795Z"
    },
    "papermill": {
     "duration": 97.436474,
     "end_time": "2025-01-30T09:27:34.894123",
     "exception": false,
     "start_time": "2025-01-30T09:25:57.457649",
     "status": "completed"
    },
    "tags": []
   },
   "outputs": [],
   "source": [
    "%cd /kaggle/working/SuGaR/gaussian_splatting/submodules/diff-gaussian-rasterization\n",
    "!pip install -e ."
   ]
  },
  {
   "cell_type": "code",
   "execution_count": null,
   "id": "d1275b2e",
   "metadata": {
    "execution": {
     "iopub.execute_input": "2025-01-30T09:27:35.060525Z",
     "iopub.status.busy": "2025-01-30T09:27:35.060120Z",
     "iopub.status.idle": "2025-01-30T09:29:06.297556Z",
     "shell.execute_reply": "2025-01-30T09:29:06.296402Z"
    },
    "papermill": {
     "duration": 91.3256,
     "end_time": "2025-01-30T09:29:06.301000",
     "exception": false,
     "start_time": "2025-01-30T09:27:34.975400",
     "status": "completed"
    },
    "tags": []
   },
   "outputs": [],
   "source": [
    "%cd /kaggle/working/SuGaR/gaussian_splatting/submodules/simple-knn\n",
    "!pip install -e ."
   ]
  },
  {
   "cell_type": "code",
   "execution_count": null,
   "id": "b95840c7",
   "metadata": {
    "execution": {
     "iopub.execute_input": "2025-01-30T09:29:06.464265Z",
     "iopub.status.busy": "2025-01-30T09:29:06.463378Z",
     "iopub.status.idle": "2025-01-30T09:29:15.986607Z",
     "shell.execute_reply": "2025-01-30T09:29:15.985525Z"
    },
    "papermill": {
     "duration": 9.607823,
     "end_time": "2025-01-30T09:29:15.989447",
     "exception": false,
     "start_time": "2025-01-30T09:29:06.381624",
     "status": "completed"
    },
    "tags": []
   },
   "outputs": [],
   "source": [
    "%cd /kaggle/working/SuGaR\n",
    "!python train_full_pipeline.py \\\n",
    "    -s /kaggle/working/frames_output \\\n",
    "    -r \"dn_consistency\" \\\n",
    "    --high_poly True \\\n",
    "    --export_obj True \\\n",
    "    --gs_output_dir \"/kaggle/working/gaussian-splatting/output/9e49cfd6-b\" \\\n",
    "    --gpu 0 \\\n",
    "    --white_background True\n"
   ]
  },
  {
   "cell_type": "code",
   "execution_count": null,
   "id": "a60a0478",
   "metadata": {
    "papermill": {
     "duration": 0.081608,
     "end_time": "2025-01-30T09:29:16.154662",
     "exception": false,
     "start_time": "2025-01-30T09:29:16.073054",
     "status": "completed"
    },
    "tags": []
   },
   "outputs": [],
   "source": []
  }
 ],
 "metadata": {
  "kaggle": {
   "accelerator": "gpu",
   "dataSources": [
    {
     "datasetId": 6281054,
     "sourceId": 10170296,
     "sourceType": "datasetVersion"
    }
   ],
   "dockerImageVersionId": 30805,
   "isGpuEnabled": true,
   "isInternetEnabled": true,
   "language": "python",
   "sourceType": "notebook"
  },
  "kernelspec": {
   "display_name": "pm3bap",
   "language": "python",
   "name": "python3"
  },
  "language_info": {
   "codemirror_mode": {
    "name": "ipython",
    "version": 3
   },
   "file_extension": ".py",
   "mimetype": "text/x-python",
   "name": "python",
   "nbconvert_exporter": "python",
   "pygments_lexer": "ipython3",
   "version": "3.9.19"
  },
  "papermill": {
   "default_parameters": {},
   "duration": 3672.764581,
   "end_time": "2025-01-30T09:29:16.657282",
   "environment_variables": {},
   "exception": null,
   "input_path": "__notebook__.ipynb",
   "output_path": "__notebook__.ipynb",
   "parameters": {},
   "start_time": "2025-01-30T08:28:03.892701",
   "version": "2.6.0"
  }
 },
 "nbformat": 4,
 "nbformat_minor": 5
}
